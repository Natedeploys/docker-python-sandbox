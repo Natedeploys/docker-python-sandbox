{
 "cells": [
  {
   "cell_type": "markdown",
   "metadata": {},
   "source": [
    "Run fasttext in ~/fastText-0.2.0/sent2vec: ./fasttext sent2vec -input ~/Nikola/clean.train.title.txt -output my_model -minCount 8 -dim 700 -epoch 9 -lr 0.2 -wordNgrams 2 -loss ns -neg 10 -thread 20 -t 0.000005 -dropoutK 4 -minCountLabel 20 -bucket 4000000 -maxVocabSize 750000 -numCheckPoints 10\n"
   ]
  },
  {
   "cell_type": "code",
   "execution_count": 11,
   "metadata": {
    "scrolled": true
   },
   "outputs": [],
   "source": [
    "import nltk\n",
    "from nltk.tokenize import sent_tokenize\n",
    "from nltk.tokenize import word_tokenize\n",
    "##nltk.download('punkt')\n",
    "import sent2vec\n",
    "import numpy as np\n",
    "\n",
    "model = sent2vec.Sent2vecModel()\n",
    "#model.load_model('/home/rich/Downloads/model.bin')\n",
    "model.load_model('model.bin')\n",
    "#embs = model.embed_sentences([\"first sentence .\", \"another sentence\"])\n",
    "\n",
    "#embW, vocab = model.get_unigram_embeddings()\n",
    "#print(len(vocab))\n",
    "#print(vocab[\"neuron\"])\n",
    "\n",
    "#embW = model.embed_unigrams(['dog', 'cat'])\n",
    "#print(tok)\n",
    "#print(embs)"
   ]
  },
  {
   "cell_type": "code",
   "execution_count": null,
   "metadata": {},
   "outputs": [],
   "source": []
  },
  {
   "cell_type": "code",
   "execution_count": 10,
   "metadata": {},
   "outputs": [
    {
     "ename": "LookupError",
     "evalue": "Could not find stanford-postagger.jar jar file at /home/rich/Downloads/stanford-postagger-2018-10-16/stanford-postagger.jar",
     "output_type": "error",
     "traceback": [
      "\u001b[0;31m---------------------------------------------------------------------------\u001b[0m",
      "\u001b[0;31mLookupError\u001b[0m                               Traceback (most recent call last)",
      "\u001b[0;32m<ipython-input-10-64a377278dcf>\u001b[0m in \u001b[0;36m<module>\u001b[0;34m\u001b[0m\n\u001b[1;32m     60\u001b[0m \u001b[0;31m#        sentences.append(line)\u001b[0m\u001b[0;34m\u001b[0m\u001b[0;34m\u001b[0m\u001b[0;34m\u001b[0m\u001b[0m\n\u001b[1;32m     61\u001b[0m \u001b[0;34m\u001b[0m\u001b[0m\n\u001b[0;32m---> 62\u001b[0;31m \u001b[0mtknzr\u001b[0m \u001b[0;34m=\u001b[0m \u001b[0mStanfordTokenizer\u001b[0m\u001b[0;34m(\u001b[0m\u001b[0mSNLP_TAGGER_JAR\u001b[0m\u001b[0;34m,\u001b[0m \u001b[0mencoding\u001b[0m\u001b[0;34m=\u001b[0m\u001b[0;34m'utf-8'\u001b[0m\u001b[0;34m)\u001b[0m\u001b[0;34m\u001b[0m\u001b[0;34m\u001b[0m\u001b[0m\n\u001b[0m\u001b[1;32m     63\u001b[0m \u001b[0;31m# s = ' <delimiter> '.join(sentences)\u001b[0m\u001b[0;34m\u001b[0m\u001b[0;34m\u001b[0m\u001b[0;34m\u001b[0m\u001b[0m\n\u001b[1;32m     64\u001b[0m \u001b[0;31m# tokenized_sentences_SNLP = tokenize_sentences(tknzr, [s])\u001b[0m\u001b[0;34m\u001b[0m\u001b[0;34m\u001b[0m\u001b[0;34m\u001b[0m\u001b[0m\n",
      "\u001b[0;32m~/anaconda3/lib/python3.7/site-packages/nltk/tokenize/stanford.py\u001b[0m in \u001b[0;36m__init__\u001b[0;34m(self, path_to_jar, encoding, options, verbose, java_options)\u001b[0m\n\u001b[1;32m     42\u001b[0m             \u001b[0menv_vars\u001b[0m\u001b[0;34m=\u001b[0m\u001b[0;34m(\u001b[0m\u001b[0;34m'STANFORD_POSTAGGER'\u001b[0m\u001b[0;34m,\u001b[0m\u001b[0;34m)\u001b[0m\u001b[0;34m,\u001b[0m\u001b[0;34m\u001b[0m\u001b[0;34m\u001b[0m\u001b[0m\n\u001b[1;32m     43\u001b[0m             \u001b[0msearchpath\u001b[0m\u001b[0;34m=\u001b[0m\u001b[0;34m(\u001b[0m\u001b[0;34m)\u001b[0m\u001b[0;34m,\u001b[0m \u001b[0murl\u001b[0m\u001b[0;34m=\u001b[0m\u001b[0m_stanford_url\u001b[0m\u001b[0;34m,\u001b[0m\u001b[0;34m\u001b[0m\u001b[0;34m\u001b[0m\u001b[0m\n\u001b[0;32m---> 44\u001b[0;31m             \u001b[0mverbose\u001b[0m\u001b[0;34m=\u001b[0m\u001b[0mverbose\u001b[0m\u001b[0;34m\u001b[0m\u001b[0;34m\u001b[0m\u001b[0m\n\u001b[0m\u001b[1;32m     45\u001b[0m         )\n\u001b[1;32m     46\u001b[0m \u001b[0;34m\u001b[0m\u001b[0m\n",
      "\u001b[0;32m~/anaconda3/lib/python3.7/site-packages/nltk/__init__.py\u001b[0m in \u001b[0;36mfind_jar\u001b[0;34m(name_pattern, path_to_jar, env_vars, searchpath, url, verbose, is_regex)\u001b[0m\n\u001b[1;32m    717\u001b[0m         searchpath=(), url=None, verbose=True, is_regex=False):\n\u001b[1;32m    718\u001b[0m     return next(find_jar_iter(name_pattern, path_to_jar, env_vars,\n\u001b[0;32m--> 719\u001b[0;31m                          searchpath, url, verbose, is_regex))\n\u001b[0m\u001b[1;32m    720\u001b[0m \u001b[0;34m\u001b[0m\u001b[0m\n\u001b[1;32m    721\u001b[0m \u001b[0;34m\u001b[0m\u001b[0m\n",
      "\u001b[0;32m~/anaconda3/lib/python3.7/site-packages/nltk/__init__.py\u001b[0m in \u001b[0;36mfind_jar_iter\u001b[0;34m(name_pattern, path_to_jar, env_vars, searchpath, url, verbose, is_regex)\u001b[0m\n\u001b[1;32m    633\u001b[0m         \u001b[0;32melse\u001b[0m\u001b[0;34m:\u001b[0m\u001b[0;34m\u001b[0m\u001b[0;34m\u001b[0m\u001b[0m\n\u001b[1;32m    634\u001b[0m             raise LookupError('Could not find %s jar file at %s' %\n\u001b[0;32m--> 635\u001b[0;31m                             (name_pattern, path_to_jar))\n\u001b[0m\u001b[1;32m    636\u001b[0m \u001b[0;34m\u001b[0m\u001b[0m\n\u001b[1;32m    637\u001b[0m     \u001b[0;31m# Check environment variables\u001b[0m\u001b[0;34m\u001b[0m\u001b[0;34m\u001b[0m\u001b[0;34m\u001b[0m\u001b[0m\n",
      "\u001b[0;31mLookupError\u001b[0m: Could not find stanford-postagger.jar jar file at /home/rich/Downloads/stanford-postagger-2018-10-16/stanford-postagger.jar"
     ]
    }
   ],
   "source": [
    "# %load sent2vec-master/wikiTokenize.py\n",
    "#!/usr/bin/python3\n",
    "\n",
    "import sys\n",
    "from nltk.tokenize import StanfordTokenizer\n",
    "import re\n",
    "import os\n",
    "\n",
    "def tokenize(tknzr, sentence, to_lower=True):\n",
    "    \"\"\"Arguments:\n",
    "        - tknzr: a tokenizer implementing the NLTK tokenizer interface\n",
    "        - sentence: a string to be tokenized\n",
    "        - to_lower: lowercasing or not\n",
    "    \"\"\"\n",
    "    sentence = sentence.strip()\n",
    "    sentence = ' '.join([format_token(x) for x in tknzr.tokenize(sentence)])\n",
    "    if to_lower:\n",
    "        sentence = sentence.lower()\n",
    "    sentence = re.sub('((www\\.[^\\s]+)|(https?://[^\\s]+)|(http?://[^\\s]+))','<url>',sentence) #replace urls by <url>\n",
    "    sentence = re.sub('(\\@ [^\\s]+)','<user>',sentence) #replace @user268 by <user>\n",
    "    filter(lambda word: ' ' not in word, sentence)\n",
    "    return sentence\n",
    "\n",
    "def format_token(token):\n",
    "    \"\"\"\"\"\"\n",
    "    if token == '-LRB-':\n",
    "        token = '('\n",
    "    elif token == '-RRB-':\n",
    "        token = ')'\n",
    "    elif token == '-RSB-':\n",
    "        token = ']'\n",
    "    elif token == '-LSB-':\n",
    "        token = '['\n",
    "    elif token == '-LCB-':\n",
    "        token = '{'\n",
    "    elif token == '-RCB-':\n",
    "        token = '}'\n",
    "    return token\n",
    "\n",
    "def tokenize_sentences(tknzr, sentences, to_lower=True):\n",
    "    \"\"\"Arguments:\n",
    "        - tknzr: a tokenizer implementing the NLTK tokenizer interface\n",
    "        - sentences: a list of sentences\n",
    "        - to_lower: lowercasing or not\n",
    "    \"\"\"\n",
    "    return [tokenize(tknzr, s, to_lower) for s in sentences]\n",
    "\n",
    "\n",
    "\n",
    "\n",
    "\n",
    "# fileName = sys.argv[1]\n",
    "\n",
    "SNLP_TAGGER_JAR = \"/home/rich/Downloads/stanford-postagger-2018-10-16/stanford-postagger.jar\"\n",
    "\n",
    "\n",
    "# sentences = []\n",
    "# with open(fileName, 'r') as fileinput:\n",
    "#    for line in fileinput:\n",
    "#        sentences.append(line)\n",
    "\n",
    "tknzr = StanfordTokenizer(SNLP_TAGGER_JAR, encoding='utf-8')\n",
    "# s = ' <delimiter> '.join(sentences)\n",
    "# tokenized_sentences_SNLP = tokenize_sentences(tknzr, [s])\n",
    "# tokenized_sentences_SNLP = tokenized_sentences_SNLP[0].split(' <delimiter> ')\n",
    "\n",
    "# for sentence in tokenized_sentences_SNLP:\n",
    "#     print (sentence)\n"
   ]
  },
  {
   "cell_type": "code",
   "execution_count": 13,
   "metadata": {},
   "outputs": [],
   "source": [
    "f=open(\"/home/rich/Nikola/clean.test.title.txt\",\"r+\") \n",
    "text =f.read()\n",
    "\n",
    "tokS=sent_tokenize(text)\n",
    "#tokS = [tokenize(tknzr, s) for s in tokS]\n",
    "\n",
    "embS = model.embed_sentences(tokS)"
   ]
  },
  {
   "cell_type": "code",
   "execution_count": null,
   "metadata": {},
   "outputs": [],
   "source": [
    "%ls sent2vec-master/"
   ]
  },
  {
   "cell_type": "code",
   "execution_count": 15,
   "metadata": {},
   "outputs": [
    {
     "name": "stdout",
     "output_type": "stream",
     "text": [
      " \u001b[0m\u001b[01;34manaconda3\u001b[0m/         \u001b[01;31mfastText-master.zip\u001b[0m  'Rich - sent2vec.ipynb'\r\n",
      " \u001b[01;34mDesktop\u001b[0m/           model.bin             \u001b[01;34msent2vec-master\u001b[0m/\r\n",
      " \u001b[01;34mDocuments\u001b[0m/         \u001b[01;34mMusic\u001b[0m/                \u001b[01;31msent2vec-master.zip\u001b[0m\r\n",
      " \u001b[01;34mDownloads\u001b[0m/         \u001b[34;42mNikola\u001b[0m/               \u001b[01;34mTemplates\u001b[0m/\r\n",
      " examples.desktop   \u001b[01;34mnltk_data\u001b[0m/            \u001b[01;31mv0.2.0.zip\u001b[0m\r\n",
      " \u001b[01;34mfastText-0.2.0\u001b[0m/    \u001b[01;34mPictures\u001b[0m/             \u001b[01;34mVideos\u001b[0m/\r\n",
      " \u001b[01;34mfastText-master\u001b[0m/   \u001b[01;34mPublic\u001b[0m/\r\n"
     ]
    }
   ],
   "source": [
    "import numpy as np\n",
    "import matplotlib.pyplot as plt\n",
    "#from wikiTokenize import tokenize\n",
    "%ls"
   ]
  },
  {
   "cell_type": "code",
   "execution_count": null,
   "metadata": {},
   "outputs": [],
   "source": [
    "tokS[0]"
   ]
  },
  {
   "cell_type": "code",
   "execution_count": 38,
   "metadata": {
    "scrolled": true
   },
   "outputs": [],
   "source": [
    "#vocab = model.get_vocabulary() \n",
    "#embW, vocab = model.get_unigram_embeddings()\n",
    "#print(len(embW[7]))\n",
    "\n",
    "\n",
    "sentence_norms_sent2vec = []\n",
    "sentence_norms_by_hand = []\n",
    "word_norms_by_hand = []\n",
    "\n",
    "for i, sent in enumerate(tokS):\n",
    "    sentence_norms_sent2vec.append(np.linalg.norm(embS[i]) ** 2)\n",
    "    sent_tokenized = word_tokenize(sent)\n",
    "    word_embeddings = []\n",
    "    word_embeddings_norms = []\n",
    "    \n",
    "    for word in sent_tokenized:\n",
    "        word_emb = model.embed_sentences([word])\n",
    "        word_embeddings.append(word_emb)\n",
    "        word_embeddings_norms.append(np.linalg.norm(word_emb) ** 2)\n",
    "        \n",
    "#     print(len(word_embeddings))\n",
    "    sent_embedding = np.sum(word_embeddings, 0)/len(np.nonzero(word_embeddings_norms)[0])\n",
    "    word_embedding_norm = np.mean(word_embeddings_norms)\n",
    "    sent_embedding_norm = np.linalg.norm(sent_embedding[0]) ** 2 \n",
    "    sentence_norms_by_hand.append(sent_embedding_norm)\n",
    "    word_norms_by_hand.append(word_embedding_norm)"
   ]
  },
  {
   "cell_type": "code",
   "execution_count": 43,
   "metadata": {},
   "outputs": [
    {
     "name": "stdout",
     "output_type": "stream",
     "text": [
      "13\n"
     ]
    }
   ],
   "source": [
    "print(len(np.nonzero(word_embeddings_norms)[0]))\n",
    "dir"
   ]
  },
  {
   "cell_type": "code",
   "execution_count": 46,
   "metadata": {},
   "outputs": [
    {
     "data": {
      "image/png": "[encoded data removed]",
      "text/plain": [
       "<Figure size 432x288 with 1 Axes>"
      ]
     },
     "metadata": {
      "needs_background": "light"
     },
     "output_type": "display_data"
    }
   ],
   "source": [
    "plt.scatter(sentence_norms_sent2vec, sentence_norms_by_hand)\n",
    "plt.xlabel('<lenW>')\n",
    "plt.ylabel('lenS')\n",
    "plt.show()"
   ]
  },
  {
   "cell_type": "code",
   "execution_count": null,
   "metadata": {},
   "outputs": [],
   "source": [
    "print(hh[0])"
   ]
  },
  {
   "cell_type": "code",
   "execution_count": null,
   "metadata": {
    "scrolled": true
   },
   "outputs": [],
   "source": [
    "plt.scatter(lenS, lenS2)\n",
    "plt.xlabel('lenS')\n",
    "plt.ylabel('lenS2')\n",
    "plt.show()\n",
    "#print(sentS/len(tokWs))\n",
    "#rint(embS[i])\n",
    "#print(len(embS))\n",
    "print(text)\n",
    "#print(model.embed_sentences(['Purification']))"
   ]
  },
  {
   "cell_type": "code",
   "execution_count": null,
   "metadata": {},
   "outputs": [],
   "source": [
    "l=[0]*len(embW)\n",
    "for i in range(len(embW)):\n",
    "    l[i]=np.linalg.norm(embW[i])\n",
    "plt.yscale('log')\n",
    "plt.hist(l,bins=range(70))\n",
    "plt.show()"
   ]
  },
  {
   "cell_type": "code",
   "execution_count": null,
   "metadata": {},
   "outputs": [],
   "source": [
    "l=[0]*len(embS)\n",
    "for i in range(len(embS)):\n",
    "    l[i]=np.linalg.norm(embS[i])\n",
    "plt.yscale('log')\n",
    "plt.hist(l,bins=range(70))\n",
    "plt.show()"
   ]
  },
  {
   "cell_type": "code",
   "execution_count": null,
   "metadata": {},
   "outputs": [],
   "source": [
    "import umap\n",
    "from sklearn.datasets import load_digits\n",
    "\n",
    "digits = load_digits()\n",
    "\n",
    "embedding = umap.UMAP().fit_transform(digits.data)"
   ]
  },
  {
   "cell_type": "code",
   "execution_count": null,
   "metadata": {},
   "outputs": [],
   "source": [
    "plt.scatter(embedding)\n",
    "plt.show()"
   ]
  },
  {
   "cell_type": "code",
   "execution_count": null,
   "metadata": {},
   "outputs": [],
   "source": []
  }
 ],
 "metadata": {
  "kernelspec": {
   "display_name": "Python 3",
   "language": "python",
   "name": "python3"
  },
  "language_info": {
   "codemirror_mode": {
    "name": "ipython",
    "version": 3
   },
   "file_extension": ".py",
   "mimetype": "text/x-python",
   "name": "python",
   "nbconvert_exporter": "python",
   "pygments_lexer": "ipython3",
   "version": "3.7.3"
  }
 },
 "nbformat": 4,
 "nbformat_minor": 2
}
