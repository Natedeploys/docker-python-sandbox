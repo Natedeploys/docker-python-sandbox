{
 "cells": [
  {
   "cell_type": "markdown",
   "metadata": {},
   "source": [
    "Run fasttext in ~/fastText-0.2.0/sent2vec: ./fasttext sent2vec -input ~/Nikola/clean.train.title.txt -output my_model -minCount 8 -dim 700 -epoch 9 -lr 0.2 -wordNgrams 2 -loss ns -neg 10 -thread 20 -t 0.000005 -dropoutK 4 -minCountLabel 20 -bucket 4000000 -maxVocabSize 750000 -numCheckPoints 10\n"
   ]
  },
  {
   "cell_type": "code",
   "execution_count": null,
   "metadata": {
    "scrolled": true
   },
   "outputs": [],
   "source": [
    "import nltk\n",
    "from nltk.tokenize import sent_tokenize\n",
    "from nltk.tokenize import word_tokenize\n",
    "##nltk.download('punkt')\n",
    "import sent2vec\n",
    "import numpy as np\n",
    "\n",
    "model = sent2vec.Sent2vecModel()\n",
    "#model.load_model('/home/rich/Downloads/model.bin')\n",
    "model.load_model('model.bin')\n",
    "#embs = model.embed_sentences([\"first sentence .\", \"another sentence\"])\n",
    "\n",
    "embW, vocab = model.get_unigram_embeddings()\n",
    "#print(len(vocab))\n",
    "#print(vocab[\"neuron\"])\n",
    "\n",
    "#embW = model.embed_unigrams(['dog', 'cat'])\n",
    "#print(tok)\n",
    "#print(embs)"
   ]
  },
  {
   "cell_type": "code",
   "execution_count": null,
   "metadata": {},
   "outputs": [],
   "source": [
    "print(vocab.index('neuron'))"
   ]
  },
  {
   "cell_type": "code",
   "execution_count": null,
   "metadata": {},
   "outputs": [],
   "source": [
    "# %load sent2vec-master/wikiTokenize.py\n",
    "#!/usr/bin/python3\n",
    "\n",
    "import sys\n",
    "from nltk.tokenize import StanfordTokenizer\n",
    "import re\n",
    "import os\n",
    "\n",
    "def tokenize(tknzr, sentence, to_lower=True):\n",
    "    \"\"\"Arguments:\n",
    "        - tknzr: a tokenizer implementing the NLTK tokenizer interface\n",
    "        - sentence: a string to be tokenized\n",
    "        - to_lower: lowercasing or not\n",
    "    \"\"\"\n",
    "    sentence = sentence.strip()\n",
    "    sentence = ' '.join([format_token(x) for x in tknzr.tokenize(sentence)])\n",
    "    if to_lower:\n",
    "        sentence = sentence.lower()\n",
    "    sentence = re.sub('((www\\.[^\\s]+)|(https?://[^\\s]+)|(http?://[^\\s]+))','<url>',sentence) #replace urls by <url>\n",
    "    sentence = re.sub('(\\@ [^\\s]+)','<user>',sentence) #replace @user268 by <user>\n",
    "    filter(lambda word: ' ' not in word, sentence)\n",
    "    return sentence\n",
    "\n",
    "def format_token(token):\n",
    "    \"\"\"\"\"\"\n",
    "    if token == '-LRB-':\n",
    "        token = '('\n",
    "    elif token == '-RRB-':\n",
    "        token = ')'\n",
    "    elif token == '-RSB-':\n",
    "        token = ']'\n",
    "    elif token == '-LSB-':\n",
    "        token = '['\n",
    "    elif token == '-LCB-':\n",
    "        token = '{'\n",
    "    elif token == '-RCB-':\n",
    "        token = '}'\n",
    "    return token\n",
    "\n",
    "def tokenize_sentences(tknzr, sentences, to_lower=True):\n",
    "    \"\"\"Arguments:\n",
    "        - tknzr: a tokenizer implementing the NLTK tokenizer interface\n",
    "        - sentences: a list of sentences\n",
    "        - to_lower: lowercasing or not\n",
    "    \"\"\"\n",
    "    return [tokenize(tknzr, s, to_lower) for s in sentences]\n",
    "\n",
    "\n",
    "\n",
    "\n",
    "\n",
    "# fileName = sys.argv[1]\n",
    "\n",
    "SNLP_TAGGER_JAR = \"/home/rich/Downloads/stanford-postagger-2018-10-16/stanford-postagger.jar\"\n",
    "\n",
    "\n",
    "# sentences = []\n",
    "# with open(fileName, 'r') as fileinput:\n",
    "#    for line in fileinput:\n",
    "#        sentences.append(line)\n",
    "\n",
    "tknzr = StanfordTokenizer(SNLP_TAGGER_JAR, encoding='utf-8')\n",
    "# s = ' <delimiter> '.join(sentences)\n",
    "# tokenized_sentences_SNLP = tokenize_sentences(tknzr, [s])\n",
    "# tokenized_sentences_SNLP = tokenized_sentences_SNLP[0].split(' <delimiter> ')\n",
    "\n",
    "# for sentence in tokenized_sentences_SNLP:\n",
    "#     print (sentence)\n"
   ]
  },
  {
   "cell_type": "code",
   "execution_count": null,
   "metadata": {},
   "outputs": [],
   "source": [
    "import nltk\n",
    "from nltk.tokenize import sent_tokenize\n",
    "from nltk.tokenize import word_tokenize\n",
    "\n",
    "f=open(\"/home/rich/Nikola/clean.train.title.txt\",\"r+\") \n",
    "text =f.read()\n",
    "\n",
    "tokS=sent_tokenize(text)\n",
    "#tokS = [tokenize(tknzr, s) for s in tokS]\n",
    "fw=open(\"/home/rich/Nikola/clean.train.titleLow.txt\",\"w+\") \n",
    "for sent in tokS:\n",
    "    fw.write(sent.lower()+'\\n')\n",
    "fw.close()\n",
    "\n",
    "#embS = model.embed_sentences(tokS)"
   ]
  },
  {
   "cell_type": "code",
   "execution_count": null,
   "metadata": {},
   "outputs": [],
   "source": [
    "tokS[3].lower()"
   ]
  },
  {
   "cell_type": "code",
   "execution_count": null,
   "metadata": {},
   "outputs": [],
   "source": [
    "import numpy as np\n",
    "import matplotlib.pyplot as plt\n",
    "#from wikiTokenize import tokenize\n",
    "%ls"
   ]
  },
  {
   "cell_type": "code",
   "execution_count": null,
   "metadata": {},
   "outputs": [],
   "source": [
    "tokS[0]"
   ]
  },
  {
   "cell_type": "code",
   "execution_count": 7,
   "metadata": {
    "scrolled": false
   },
   "outputs": [
    {
     "data": {
      "image/png": "[encoded data removed]",
      "text/plain": [
       "<Figure size 432x288 with 1 Axes>"
      ]
     },
     "metadata": {
      "needs_background": "light"
     },
     "output_type": "display_data"
    }
   ],
   "source": [
    "#vocab = model.get_vocabulary() \n",
    "#embW, vocab = model.get_unigram_embeddings()\n",
    "#print(len(embW[7]))\n",
    "import numpy as np\n",
    "import nltk\n",
    "from nltk.tokenize import sent_tokenize\n",
    "from nltk.tokenize import word_tokenize\n",
    "\n",
    "import sent2vec\n",
    "#model = sent2vec.Sent2vecModel()\n",
    "#model.load_model('/home/rich/fastText-0.2.0/sent2vec/my_model.bin')\n",
    "\n",
    "f=open(\"/home/rich/Nikola/clean.train.titleLow.txt\",\"r+\") \n",
    "text =f.read(10000)\n",
    "tokS=sent_tokenize(text)\n",
    "#tokS=\"this is my first sentence.\\n and this my second.\"\n",
    "#tokS=sent_tokenize(tokS)\n",
    "embS = model.embed_sentences(tokS)\n",
    "\n",
    "sentence_norms_sent2vec = []\n",
    "sentence_norms_by_hand = []\n",
    "word_norms_by_hand = []\n",
    "\n",
    "for i, sent in enumerate(tokS[0:100]):\n",
    "    sentence_norms_sent2vec.append(np.linalg.norm(embS[i]))\n",
    "    sent_tokenized = word_tokenize(sent)\n",
    "    #del sent_tokenized[len(sent_tokenized)-1]\n",
    "    word_embeddings = []\n",
    "    word_embeddings_norms = []\n",
    "    \n",
    "    for word in sent_tokenized:\n",
    "        word_emb = model.embed_sentences([word])       #    word_emb=embW[vocab.index(word.lower())]\n",
    "        word_embeddings.append(word_emb)\n",
    "        word_embeddings_norms.append(np.linalg.norm(word_emb))\n",
    "        \n",
    "    sent_embedding = np.mean(word_embeddings, 0)\n",
    "    #sent_embedding = np.sum(word_embeddings, 0)/len(np.nonzero(word_embeddings_norms)[0])\n",
    "    word_embedding_norm = np.mean(word_embeddings_norms)\n",
    "    sent_embedding_norm = np.linalg.norm(sent_embedding)\n",
    "    sentence_norms_by_hand.append(sent_embedding_norm)\n",
    "    word_norms_by_hand.append(word_embedding_norm)\n",
    "    \n",
    "import matplotlib.pyplot as plt\n",
    "plt.scatter(sentence_norms_sent2vec, sentence_norms_by_hand,marker=1)\n",
    "#plt.scatter(word_norms_by_hand, sentence_norms_by_hand,marker=1)\n",
    "\n",
    "plt.xlabel('lenS auto')\n",
    "plt.ylabel('lenS manual')\n",
    "plt.show()"
   ]
  },
  {
   "cell_type": "code",
   "execution_count": 6,
   "metadata": {},
   "outputs": [
    {
     "data": {
      "text/plain": [
       "'histopathological and scintigraphic features of condylar hyperplasia.'"
      ]
     },
     "execution_count": 6,
     "metadata": {},
     "output_type": "execute_result"
    }
   ],
   "source": [
    "sent"
   ]
  },
  {
   "cell_type": "code",
   "execution_count": null,
   "metadata": {
    "scrolled": true
   },
   "outputs": [],
   "source": [
    "import matplotlib.pyplot as plt\n",
    "#plt.scatter(sentence_norms_sent2vec, sentence_norms_by_hand,marker=1)\n",
    "plt.scatter(word_norms_by_hand, sentence_norms_by_hand,marker=1)\n",
    "\n",
    "plt.xlabel('lenS auto')\n",
    "plt.ylabel('lenS manual')\n",
    "plt.show()"
   ]
  },
  {
   "cell_type": "code",
   "execution_count": null,
   "metadata": {},
   "outputs": [],
   "source": [
    "print(sentence_norms_sent2vec)\n",
    "print(sentence_norms_by_hand)\n",
    "word"
   ]
  },
  {
   "cell_type": "code",
   "execution_count": null,
   "metadata": {
    "scrolled": true
   },
   "outputs": [],
   "source": [
    "plt.scatter(lenS, lenS2)\n",
    "plt.xlabel('lenS')\n",
    "plt.ylabel('lenS2')\n",
    "plt.show()\n",
    "#print(sentS/len(tokWs))\n",
    "#rint(embS[i])\n",
    "#print(len(embS))\n",
    "print(text)\n",
    "#print(model.embed_sentences(['Purification']))"
   ]
  },
  {
   "cell_type": "code",
   "execution_count": null,
   "metadata": {},
   "outputs": [],
   "source": [
    "l=[0]*len(embW)\n",
    "for i in range(len(embW)):\n",
    "    l[i]=np.linalg.norm(embW[i])\n",
    "plt.yscale('log')\n",
    "plt.hist(l,bins=range(70))\n",
    "plt.show()"
   ]
  },
  {
   "cell_type": "code",
   "execution_count": null,
   "metadata": {},
   "outputs": [],
   "source": [
    "l=[0]*len(embS)\n",
    "for i in range(len(embS)):\n",
    "    l[i]=np.linalg.norm(embS[i])\n",
    "plt.yscale('log')\n",
    "plt.hist(l,bins=range(70))\n",
    "plt.show()"
   ]
  },
  {
   "cell_type": "code",
   "execution_count": null,
   "metadata": {},
   "outputs": [],
   "source": [
    "import umap\n",
    "from sklearn.datasets import load_digits\n",
    "\n",
    "digits = load_digits()\n",
    "\n",
    "embedding = umap.UMAP().fit_transform(digits.data)"
   ]
  },
  {
   "cell_type": "code",
   "execution_count": null,
   "metadata": {},
   "outputs": [],
   "source": [
    "embedding = umap.UMAP().fit_transform(embS)"
   ]
  },
  {
   "cell_type": "code",
   "execution_count": null,
   "metadata": {},
   "outputs": [],
   "source": [
    "#print(len(embedding))\n",
    "#np.reshape(embedding, (2, len(embedding)))\n",
    "#plt.scatter(embedding[0][0:100],embedding[1][0:100])\n",
    "plt.scatter([x[0] for x in embedding],[x[1] for x in embedding],marker=1)\n",
    "plt.show()"
   ]
  },
  {
   "cell_type": "code",
   "execution_count": null,
   "metadata": {},
   "outputs": [],
   "source": [
    "np.reshape(embedding, (len(embedding),2))\n",
    "print(np.shape(digits.data))"
   ]
  },
  {
   "cell_type": "code",
   "execution_count": null,
   "metadata": {},
   "outputs": [],
   "source": [
    "print(nltk.lower(sent_tokenized))\n",
    "print(vocab([\"neuron\"]))#[sent_tokenized[0]])\n",
    "#model.get_vocabulary(sent_tokenized[0])\n",
    "#for w in tokS[1]:\n",
    "#    print(len(w.split(' ')))\n",
    "#(len(w.split(' ')) == 1 for w in tokS[1])"
   ]
  },
  {
   "cell_type": "code",
   "execution_count": null,
   "metadata": {},
   "outputs": [],
   "source": []
  }
 ],
 "metadata": {
  "kernelspec": {
   "display_name": "Python 3",
   "language": "python",
   "name": "python3"
  },
  "language_info": {
   "codemirror_mode": {
    "name": "ipython",
    "version": 3
   },
   "file_extension": ".py",
   "mimetype": "text/x-python",
   "name": "python",
   "nbconvert_exporter": "python",
   "pygments_lexer": "ipython3",
   "version": "3.7.3"
  }
 },
 "nbformat": 4,
 "nbformat_minor": 2
}
